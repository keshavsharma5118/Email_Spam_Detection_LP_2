{
 "cells": [
  {
   "cell_type": "markdown",
   "id": "03d87923-1ed0-4a74-9725-ab3103162a1c",
   "metadata": {},
   "source": [
    "### Importing required libraries "
   ]
  },
  {
   "cell_type": "code",
   "execution_count": 40,
   "id": "396c908d-ffa5-4bc6-a9dd-245c0cba9111",
   "metadata": {},
   "outputs": [
    {
     "ename": "ModuleNotFoundError",
     "evalue": "No module named 'imblearn'",
     "output_type": "error",
     "traceback": [
      "\u001b[1;31m---------------------------------------------------------------------------\u001b[0m",
      "\u001b[1;31mModuleNotFoundError\u001b[0m                       Traceback (most recent call last)",
      "Cell \u001b[1;32mIn[40], line 9\u001b[0m\n\u001b[0;32m      7\u001b[0m \u001b[38;5;28;01mfrom\u001b[39;00m\u001b[38;5;250m \u001b[39m\u001b[38;5;21;01mjoblib\u001b[39;00m\u001b[38;5;250m \u001b[39m\u001b[38;5;28;01mimport\u001b[39;00m dump, load\n\u001b[0;32m      8\u001b[0m \u001b[38;5;28;01mfrom\u001b[39;00m\u001b[38;5;250m \u001b[39m\u001b[38;5;21;01msklearn\u001b[39;00m\u001b[38;5;21;01m.\u001b[39;00m\u001b[38;5;21;01mpreprocessing\u001b[39;00m\u001b[38;5;250m \u001b[39m\u001b[38;5;28;01mimport\u001b[39;00m LabelEncoder\n\u001b[1;32m----> 9\u001b[0m \u001b[38;5;28;01mfrom\u001b[39;00m\u001b[38;5;250m \u001b[39m\u001b[38;5;21;01mimblearn\u001b[39;00m\u001b[38;5;21;01m.\u001b[39;00m\u001b[38;5;21;01mover_sampling\u001b[39;00m\u001b[38;5;250m \u001b[39m\u001b[38;5;28;01mimport\u001b[39;00m SMOTE\n",
      "\u001b[1;31mModuleNotFoundError\u001b[0m: No module named 'imblearn'"
     ]
    }
   ],
   "source": [
    "import numpy as np\n",
    "import pandas as pd\n",
    "from sklearn.model_selection import train_test_split\n",
    "from sklearn.feature_extraction.text import TfidfVectorizer\n",
    "from sklearn.naive_bayes import MultinomialNB\n",
    "from sklearn.metrics import accuracy_score\n",
    "from joblib import dump, load\n",
    "from sklearn.preprocessing import LabelEncoder\n",
    "from imblearn.over_sampling import SMOTE\n",
    "\n"
   ]
  },
  {
   "cell_type": "markdown",
   "id": "27284ec9-8e11-48f3-89b2-cca514af8086",
   "metadata": {},
   "source": [
    "### Loading dataset and Using Preprocessing Technique to Clean it "
   ]
  },
  {
   "cell_type": "code",
   "execution_count": null,
   "id": "a046a6ee-cf8c-4b95-b482-79359e61fd91",
   "metadata": {},
   "outputs": [],
   "source": [
    "mail_data = pd.read_csv(\"Emails.csv\")  "
   ]
  },
  {
   "cell_type": "markdown",
   "id": "5e2e4734-6294-49e2-9a27-0fd5253547e1",
   "metadata": {},
   "source": [
    "#### replacing the missing values with empty strings.."
   ]
  },
  {
   "cell_type": "code",
   "execution_count": null,
   "id": "4c51b40c-25a4-41f2-bebe-a22980117a19",
   "metadata": {},
   "outputs": [],
   "source": [
    "mail_data = mail_data.fillna(\"\")"
   ]
  },
  {
   "cell_type": "markdown",
   "id": "b25f1d25-c643-49af-bc8b-dc6e1a081cdb",
   "metadata": {},
   "source": [
    "#### Checking Duplicate emails from the dataset "
   ]
  },
  {
   "cell_type": "code",
   "execution_count": 41,
   "id": "da189bce-2a7e-4a8a-8c85-9f3baac46edb",
   "metadata": {},
   "outputs": [
    {
     "name": "stdout",
     "output_type": "stream",
     "text": [
      "Number of duplicate rows: 0\n"
     ]
    }
   ],
   "source": [
    "mail_data = mail_data.drop_duplicates()\n",
    "\n",
    "print(\"Number of duplicate rows:\", mail_data.duplicated().sum())"
   ]
  },
  {
   "cell_type": "code",
   "execution_count": 42,
   "id": "bac6c5cd-6e43-441a-9516-2952a62eb1b1",
   "metadata": {},
   "outputs": [
    {
     "data": {
      "text/html": [
       "<div>\n",
       "<style scoped>\n",
       "    .dataframe tbody tr th:only-of-type {\n",
       "        vertical-align: middle;\n",
       "    }\n",
       "\n",
       "    .dataframe tbody tr th {\n",
       "        vertical-align: top;\n",
       "    }\n",
       "\n",
       "    .dataframe thead th {\n",
       "        text-align: right;\n",
       "    }\n",
       "</style>\n",
       "<table border=\"1\" class=\"dataframe\">\n",
       "  <thead>\n",
       "    <tr style=\"text-align: right;\">\n",
       "      <th></th>\n",
       "      <th>text</th>\n",
       "      <th>spam</th>\n",
       "    </tr>\n",
       "  </thead>\n",
       "  <tbody>\n",
       "    <tr>\n",
       "      <th>0</th>\n",
       "      <td>Subject: naturally irresistible your corporate...</td>\n",
       "      <td>1</td>\n",
       "    </tr>\n",
       "    <tr>\n",
       "      <th>1</th>\n",
       "      <td>Subject: the stock trading gunslinger  fanny i...</td>\n",
       "      <td>1</td>\n",
       "    </tr>\n",
       "    <tr>\n",
       "      <th>2</th>\n",
       "      <td>Subject: unbelievable new homes made easy  im ...</td>\n",
       "      <td>1</td>\n",
       "    </tr>\n",
       "    <tr>\n",
       "      <th>3</th>\n",
       "      <td>Subject: 4 color printing special  request add...</td>\n",
       "      <td>1</td>\n",
       "    </tr>\n",
       "    <tr>\n",
       "      <th>4</th>\n",
       "      <td>Subject: do not have money , get software cds ...</td>\n",
       "      <td>1</td>\n",
       "    </tr>\n",
       "  </tbody>\n",
       "</table>\n",
       "</div>"
      ],
      "text/plain": [
       "                                                text  spam\n",
       "0  Subject: naturally irresistible your corporate...     1\n",
       "1  Subject: the stock trading gunslinger  fanny i...     1\n",
       "2  Subject: unbelievable new homes made easy  im ...     1\n",
       "3  Subject: 4 color printing special  request add...     1\n",
       "4  Subject: do not have money , get software cds ...     1"
      ]
     },
     "execution_count": 42,
     "metadata": {},
     "output_type": "execute_result"
    }
   ],
   "source": [
    "mail_data.head()"
   ]
  },
  {
   "cell_type": "markdown",
   "id": "f999db6f-e34f-42b6-b7b8-a214921eedb3",
   "metadata": {},
   "source": [
    "#### Preparing Data for Training"
   ]
  },
  {
   "cell_type": "code",
   "execution_count": 43,
   "id": "b4345ddf-3b0f-4653-8f8b-7d7fdebfad37",
   "metadata": {},
   "outputs": [],
   "source": [
    "X = mail_data['text']\n",
    "Y = mail_data['spam']  "
   ]
  },
  {
   "cell_type": "markdown",
   "id": "79d6c231-d71b-4391-a55f-b818a02f7064",
   "metadata": {},
   "source": [
    "#### Spliting data into Training and Testing Sets"
   ]
  },
  {
   "cell_type": "code",
   "execution_count": 44,
   "id": "59a43510-cb18-49a8-987b-2b9ef5629c41",
   "metadata": {},
   "outputs": [],
   "source": [
    "X_train, X_test, Y_train, Y_test = train_test_split(X, Y, test_size=0.2, random_state=3)"
   ]
  },
  {
   "cell_type": "markdown",
   "id": "d0c75bb7-ab96-4c37-8d3f-bd80ed3e8aee",
   "metadata": {},
   "source": [
    "#### Text to Numerical Features using TF-IDF"
   ]
  },
  {
   "cell_type": "code",
   "execution_count": 45,
   "id": "7d4ebea1-b230-4d90-a136-926d5a5711cd",
   "metadata": {},
   "outputs": [],
   "source": [
    "vectorizer = TfidfVectorizer(min_df=1, stop_words=\"english\", lowercase=True)\n",
    "\n",
    "# Transform text data into feature vectors\n",
    "X_train_features = vectorizer.fit_transform(X_train)\n",
    "X_test_features = vectorizer.transform(X_test)"
   ]
  },
  {
   "cell_type": "code",
   "execution_count": 46,
   "id": "217d9b2c-b0f1-4883-9afb-c88f5cb6006d",
   "metadata": {},
   "outputs": [
    {
     "name": "stdout",
     "output_type": "stream",
     "text": [
      "Vectorizer saved as tfidf_vectorizer.joblib\n"
     ]
    }
   ],
   "source": [
    "dump(vectorizer, \"tfidf_vectorizer.joblib\")\n",
    "print(\"Vectorizer saved as tfidf_vectorizer.joblib\")"
   ]
  },
  {
   "cell_type": "markdown",
   "id": "441319b7-9e50-49be-b7b8-6463d596c33f",
   "metadata": {},
   "source": [
    "#### Label Encoding (Spam = 1, Ham = 0)"
   ]
  },
  {
   "cell_type": "code",
   "execution_count": 47,
   "id": "107817a9-87db-4fdd-ac25-1babe86d7e69",
   "metadata": {},
   "outputs": [],
   "source": [
    "label_encoder = LabelEncoder()\n",
    "Y_train_encoded = label_encoder.fit_transform(Y_train)\n",
    "Y_test_encoded = label_encoder.transform(Y_test)"
   ]
  },
  {
   "cell_type": "code",
   "execution_count": 48,
   "id": "8106fe95-36f5-446a-9515-aede38acca77",
   "metadata": {},
   "outputs": [
    {
     "ename": "NameError",
     "evalue": "name 'SMOTE' is not defined",
     "output_type": "error",
     "traceback": [
      "\u001b[1;31m---------------------------------------------------------------------------\u001b[0m",
      "\u001b[1;31mNameError\u001b[0m                                 Traceback (most recent call last)",
      "Cell \u001b[1;32mIn[48], line 1\u001b[0m\n\u001b[1;32m----> 1\u001b[0m smote \u001b[38;5;241m=\u001b[39m \u001b[43mSMOTE\u001b[49m(random_state\u001b[38;5;241m=\u001b[39m\u001b[38;5;241m3\u001b[39m)\n\u001b[0;32m      2\u001b[0m X_train_balanced, Y_train_balanced \u001b[38;5;241m=\u001b[39m smote\u001b[38;5;241m.\u001b[39mfit_resample(X_train_features, Y_train_encoded)\n",
      "\u001b[1;31mNameError\u001b[0m: name 'SMOTE' is not defined"
     ]
    }
   ],
   "source": [
    "smote = SMOTE(random_state=3)\n",
    "X_train_balanced, Y_train_balanced = smote.fit_resample(X_train_features, Y_train_encoded)"
   ]
  },
  {
   "cell_type": "markdown",
   "id": "b5336c78-487b-4a34-bb8c-af2e37591f9f",
   "metadata": {},
   "source": [
    "#### Train Naive Bayes Model"
   ]
  },
  {
   "cell_type": "code",
   "execution_count": null,
   "id": "0b924686-241c-4cdb-b644-ac0fab5d0bd0",
   "metadata": {},
   "outputs": [],
   "source": [
    "# Training Naive Bayes classifier\n",
    "nb_model = MultinomialNB()\n",
    "nb_model.fit(X_train_features, Y_train_encoded)"
   ]
  },
  {
   "cell_type": "markdown",
   "id": "c22161b4-3b17-4478-b09d-d25ee7ed1520",
   "metadata": {},
   "source": [
    "#### Evaluating Models Performance"
   ]
  },
  {
   "cell_type": "code",
   "execution_count": null,
   "id": "a6cf01b2-6a2a-4ad3-aa13-bf6c42257537",
   "metadata": {},
   "outputs": [],
   "source": [
    "# Make predictions\n",
    "Y_pred_nb = nb_model.predict(X_test_features)\n",
    "\n",
    "# Calculate Accuracy\n",
    "accuracy_nb = accuracy_score(Y_test_encoded, Y_pred_nb)\n",
    "print(f\"Naive Bayes Accuracy: {accuracy_nb:.4f}\")\n"
   ]
  },
  {
   "cell_type": "markdown",
   "id": "2eba6b03-089e-488d-b10a-929db1b40f36",
   "metadata": {},
   "source": [
    "#### Saved Model"
   ]
  },
  {
   "cell_type": "code",
   "execution_count": 49,
   "id": "4878cf97-4c51-4c03-b468-ae1519c81372",
   "metadata": {},
   "outputs": [
    {
     "name": "stdout",
     "output_type": "stream",
     "text": [
      "Model saved as naive_bayes_model.joblib\n"
     ]
    }
   ],
   "source": [
    "dump(nb_model, \"naive_bayes_model.joblib\")\n",
    "print(\"Model saved as naive_bayes_model.joblib\")"
   ]
  },
  {
   "cell_type": "markdown",
   "id": "61c6114f-2e2e-46ea-812b-282ebe0fcf4a",
   "metadata": {},
   "source": [
    "#### Function to Predict Spam Emails\n"
   ]
  },
  {
   "cell_type": "code",
   "execution_count": 54,
   "id": "acb351e5-9252-443a-a0fc-0791326cf196",
   "metadata": {},
   "outputs": [],
   "source": [
    "def predict_spam_nb(input_text, model_filename=\"naive_bayes_model.joblib\", vectorizer_filename=\"tfidf_vectorizer.joblib\"):\n",
    "    # Load the trained model and vectorizer\n",
    "    loaded_model = load(model_filename)\n",
    "    loaded_vectorizer = load(vectorizer_filename)\n",
    "\n",
    "    # Convert input text into a feature vector\n",
    "    input_features = loaded_vectorizer.transform([input_text])\n",
    "\n",
    "    # Predict\n",
    "    prediction = loaded_model.predict(input_features)[0]\n",
    "\n",
    "    # Output result\n",
    "    if prediction == 1:\n",
    "        print(f\"The input  is classified as: Ham Mail\")\n",
    "    else:\n",
    "        print(f\"The input is classified as: Spam Mail\")\n"
   ]
  },
  {
   "cell_type": "code",
   "execution_count": 55,
   "id": "27e0f308-ebdb-4207-aa40-129450e9394b",
   "metadata": {},
   "outputs": [],
   "source": [
    "new_email = \"\"\"Congratulations! You won a free iPhone! Click the link to claim now.\n",
    "\"\"\""
   ]
  },
  {
   "cell_type": "code",
   "execution_count": 56,
   "id": "1313ebef-e342-44c7-80f7-dfa70defe576",
   "metadata": {},
   "outputs": [
    {
     "name": "stdout",
     "output_type": "stream",
     "text": [
      "The input is classified as: Spam Mail\n"
     ]
    }
   ],
   "source": [
    "predict_spam_nb(new_email)"
   ]
  },
  {
   "cell_type": "code",
   "execution_count": 53,
   "id": "d6d7f9d4-ff08-4f66-a13b-b46ad316ba94",
   "metadata": {
    "scrolled": true
   },
   "outputs": [
    {
     "name": "stdout",
     "output_type": "stream",
     "text": [
      "(array([0, 1]), array([3468, 1088]))\n"
     ]
    }
   ],
   "source": [
    "import numpy as np\n",
    "print(np.unique(Y_train_encoded, return_counts=True))\n"
   ]
  },
  {
   "cell_type": "code",
   "execution_count": null,
   "id": "e60561dc-cdb5-4002-b8bf-4713c1cfe8a2",
   "metadata": {},
   "outputs": [],
   "source": []
  },
  {
   "cell_type": "code",
   "execution_count": null,
   "id": "8d574305-4c8d-4cea-98bc-c8ae1d2df484",
   "metadata": {},
   "outputs": [],
   "source": []
  },
  {
   "cell_type": "code",
   "execution_count": null,
   "id": "78f47545-63a2-4ffb-9566-1e439880e3b2",
   "metadata": {},
   "outputs": [],
   "source": []
  }
 ],
 "metadata": {
  "kernelspec": {
   "display_name": "Python 3 (ipykernel)",
   "language": "python",
   "name": "python3"
  },
  "language_info": {
   "codemirror_mode": {
    "name": "ipython",
    "version": 3
   },
   "file_extension": ".py",
   "mimetype": "text/x-python",
   "name": "python",
   "nbconvert_exporter": "python",
   "pygments_lexer": "ipython3",
   "version": "3.12.5"
  }
 },
 "nbformat": 4,
 "nbformat_minor": 5
}
